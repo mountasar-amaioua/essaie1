{
 "cells": [
  {
   "cell_type": "markdown",
   "metadata": {},
   "source": [
    "#   M. AMAIOUA                               Secondes                                            2019/2020"
   ]
  },
  {
   "cell_type": "markdown",
   "metadata": {},
   "source": [
    "# Activité sur Python: Taux d'évolutions successives et taux réciproque."
   ]
  },
  {
   "cell_type": "markdown",
   "metadata": {},
   "source": [
    "Nous définissons la fonction tauxglobal qui, en fonction des valeurs d'entrée t1 et t2, donne en sortie le taux global, noté tg, correspondant aux évolutions successives de taux t1 et t2.\n",
    "La définition est à compléter dans la cellule d'en-dessous:"
   ]
  },
  {
   "cell_type": "code",
   "execution_count": null,
   "metadata": {},
   "outputs": [],
   "source": [
    "def tauxglobal (t1,t2):\n",
    "    tg = ((     t1/100)*(1+t2/   )-1)\n",
    "    return tg"
   ]
  },
  {
   "cell_type": "code",
   "execution_count": 11,
   "metadata": {},
   "outputs": [],
   "source": [
    "def tauxglobal (t1,t2):\n",
    "    tg = ((     1+t1/100)*(1+t2/100   )-1)\n",
    "    return tg"
   ]
  },
  {
   "cell_type": "markdown",
   "metadata": {},
   "source": [
    "Remarque:Pour calculer le taux global de deux évolutions successives (t1=10 et t2=15), il suffit de faire appel à la fonction tauxglobal et de calculer l'image de (10,15) par cette fonction:\n",
    "tauxglobal(10,15)  suivi de \"Exécuter\" situé dans la barre d'outils en haut de la page."
   ]
  },
  {
   "cell_type": "code",
   "execution_count": 12,
   "metadata": {},
   "outputs": [
    {
     "data": {
      "text/plain": [
       "0.2649999999999999"
      ]
     },
     "execution_count": 12,
     "metadata": {},
     "output_type": "execute_result"
    }
   ],
   "source": [
    "tauxglobal(10,15)"
   ]
  },
  {
   "cell_type": "markdown",
   "metadata": {},
   "source": [
    "Calculer tg (le taux d'évolution global)dans les cas suivants:\n",
    "1) t1=20 , t2=10\n",
    "2) t1= -15 , t2=20\n",
    "3) t1= -60 , t2= -20\n",
    "4) t1= -30 , t2=30"
   ]
  },
  {
   "cell_type": "code",
   "execution_count": null,
   "metadata": {},
   "outputs": [],
   "source": []
  },
  {
   "cell_type": "code",
   "execution_count": null,
   "metadata": {},
   "outputs": [],
   "source": []
  },
  {
   "cell_type": "code",
   "execution_count": null,
   "metadata": {},
   "outputs": [],
   "source": []
  },
  {
   "cell_type": "code",
   "execution_count": null,
   "metadata": {},
   "outputs": [],
   "source": []
  },
  {
   "cell_type": "markdown",
   "metadata": {},
   "source": [
    "Nous aimerons que la fonction définie ci-dessus puisse donner le pourcentage d'évolution et non le taux d'évolution.\n",
    "Dans la celule suivante,effectuer le (ou les changements) nécessaire (s) et renomer cette fonction pour qu'elle permette de calculer le pourcentage d'évolution global (Pg)."
   ]
  },
  {
   "cell_type": "code",
   "execution_count": 27,
   "metadata": {},
   "outputs": [],
   "source": [
    "def Pourcentage_evolution_global (t1,t2):\n",
    "    Pg = ((    1+ t1/100)*(1+t2/ 100  )-1)*100\n",
    "    return Pg"
   ]
  },
  {
   "cell_type": "code",
   "execution_count": 28,
   "metadata": {},
   "outputs": [
    {
     "data": {
      "text/plain": [
       "68.0"
      ]
     },
     "execution_count": 28,
     "metadata": {},
     "output_type": "execute_result"
    }
   ],
   "source": [
    "Pourcentage_evolution_global(20,40)"
   ]
  },
  {
   "cell_type": "code",
   "execution_count": null,
   "metadata": {},
   "outputs": [],
   "source": [
    "Calculer Pg (le pourcentage d'évolution global)dans les cas suivants:\n",
    "1) t1=20 , t2=10\n",
    "2) t1= -15 , t2=20\n",
    "3) t1= -60 , t2= -20\n",
    "4) t1= -30 , t2=30\n",
    "Remarque:Les résultats sont en pourcentage"
   ]
  },
  {
   "cell_type": "code",
   "execution_count": null,
   "metadata": {},
   "outputs": [],
   "source": []
  },
  {
   "cell_type": "code",
   "execution_count": null,
   "metadata": {},
   "outputs": [],
   "source": []
  },
  {
   "cell_type": "code",
   "execution_count": null,
   "metadata": {},
   "outputs": [],
   "source": []
  },
  {
   "cell_type": "code",
   "execution_count": null,
   "metadata": {},
   "outputs": [],
   "source": []
  },
  {
   "cell_type": "markdown",
   "metadata": {},
   "source": [
    "De même, nous pouvons définir la fonction taux_reciproque, qui, en fonction de la valeur d'entrée t d'une évolution, donne en sortie le taux d'évolution réciproque, noté trec, correspondant à l'évolution réciproque.\n",
    "La définition est à compléter dans la cellule d'en-dessous:"
   ]
  },
  {
   "cell_type": "code",
   "execution_count": null,
   "metadata": {},
   "outputs": [],
   "source": [
    "def        (t):\n",
    "    trec = (1/(1+   /100)-  )\n",
    "    return trec"
   ]
  },
  {
   "cell_type": "code",
   "execution_count": 18,
   "metadata": {},
   "outputs": [],
   "source": [
    "def       taux_reciproque (t):\n",
    "    trec = (1/(1+ t  /100)- 1 )\n",
    "    return trec"
   ]
  },
  {
   "cell_type": "markdown",
   "metadata": {},
   "source": [
    "Exemple d'exécussion du programme  une fois complété:"
   ]
  },
  {
   "cell_type": "code",
   "execution_count": 19,
   "metadata": {},
   "outputs": [
    {
     "data": {
      "text/plain": [
       "-0.23076923076923084"
      ]
     },
     "execution_count": 19,
     "metadata": {},
     "output_type": "execute_result"
    }
   ],
   "source": [
    "taux_reciproque (30)"
   ]
  },
  {
   "cell_type": "markdown",
   "metadata": {},
   "source": [
    "Calculer le taux d'évolution réciproque, noté trec,dans chacun des cas suivants:"
   ]
  },
  {
   "cell_type": "markdown",
   "metadata": {},
   "source": [
    "1) t =  20 \n",
    "2) t =  -15 \n",
    "3) t =  100 \n",
    "4) t =  0 "
   ]
  },
  {
   "cell_type": "code",
   "execution_count": null,
   "metadata": {},
   "outputs": [],
   "source": []
  },
  {
   "cell_type": "code",
   "execution_count": null,
   "metadata": {},
   "outputs": [],
   "source": []
  },
  {
   "cell_type": "code",
   "execution_count": null,
   "metadata": {},
   "outputs": [],
   "source": []
  },
  {
   "cell_type": "code",
   "execution_count": null,
   "metadata": {},
   "outputs": [],
   "source": []
  },
  {
   "cell_type": "markdown",
   "metadata": {},
   "source": [
    "Nous aimerons que la fonction définie ci-dessus puisse donner le pourcentage d'évolution et non le taux d'évolution.\n",
    "Dans la celule suivante,effectuer le (ou les changements) nécessaire (s) et renomer cette fonction pour qu'elle permette de calculer le pourcentage d'évolution réciproque (Prec)."
   ]
  },
  {
   "cell_type": "code",
   "execution_count": null,
   "metadata": {},
   "outputs": [],
   "source": [
    "def        (t):\n",
    "    Prec = (1/(1+   /100)-  )\n",
    "    return Prec"
   ]
  },
  {
   "cell_type": "markdown",
   "metadata": {},
   "source": [
    "Un fois complétée et renomée, utiliser cette fonction pour calculer les pourcentages d'évolutions réciproques dans les cas suivants:\n",
    "1) t =  20 \n",
    "2) t =  -15 \n",
    "3) t =  100 \n",
    "4) t =  0 "
   ]
  },
  {
   "cell_type": "code",
   "execution_count": null,
   "metadata": {},
   "outputs": [],
   "source": []
  },
  {
   "cell_type": "code",
   "execution_count": null,
   "metadata": {},
   "outputs": [],
   "source": []
  },
  {
   "cell_type": "code",
   "execution_count": null,
   "metadata": {},
   "outputs": [],
   "source": []
  },
  {
   "cell_type": "code",
   "execution_count": null,
   "metadata": {},
   "outputs": [],
   "source": []
  },
  {
   "cell_type": "markdown",
   "metadata": {},
   "source": [
    "Ainsi, nous avons pu définir quatres fonctions sur Python, qui nous permettent de calculer des taux et des pourcentages d'évolutions , instantanéent et pour autant de fois que nous le voudrons!"
   ]
  },
  {
   "cell_type": "markdown",
   "metadata": {},
   "source": [
    "  Fin de l'activité              Fin de l'activité         Fin de l'activité        Fin de l'activité    Fin de l'activité"
   ]
  }
 ],
 "metadata": {
  "kernelspec": {
   "display_name": "Python 3",
   "language": "python",
   "name": "python3"
  },
  "language_info": {
   "codemirror_mode": {
    "name": "ipython",
    "version": 3
   },
   "file_extension": ".py",
   "mimetype": "text/x-python",
   "name": "python",
   "nbconvert_exporter": "python",
   "pygments_lexer": "ipython3",
   "version": "3.7.4"
  }
 },
 "nbformat": 4,
 "nbformat_minor": 2
}
